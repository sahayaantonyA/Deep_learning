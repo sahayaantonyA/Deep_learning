{
 "cells": [
  {
   "cell_type": "code",
   "execution_count": 1,
   "id": "20b8920d",
   "metadata": {
    "_cell_guid": "b1076dfc-b9ad-4769-8c92-a6c4dae69d19",
    "_uuid": "8f2839f25d086af736a60e9eeb907d3b93b6e0e5",
    "execution": {
     "iopub.execute_input": "2024-11-19T17:52:40.932298Z",
     "iopub.status.busy": "2024-11-19T17:52:40.931926Z",
     "iopub.status.idle": "2024-11-19T17:52:44.197419Z",
     "shell.execute_reply": "2024-11-19T17:52:44.196357Z"
    },
    "papermill": {
     "duration": 3.272263,
     "end_time": "2024-11-19T17:52:44.199960",
     "exception": false,
     "start_time": "2024-11-19T17:52:40.927697",
     "status": "completed"
    },
    "tags": []
   },
   "outputs": [],
   "source": [
    "import torch\n",
    "import torch.nn as nn\n",
    "from torch import optim\n",
    "from torch.utils.data import Dataset, DataLoader\n",
    "torch.set_printoptions(precision=2)\n",
    "\n",
    "class CsvDataset(Dataset):\n",
    "    def __init__(self,file_path):\n",
    "        self.file_path = file_path\n",
    "        self.x, self.y = self.csv_reader()\n",
    "    \n",
    "    def csv_reader(self):\n",
    "        import csv\n",
    "        x = []\n",
    "        y = []\n",
    "        with open(self.file_path,mode='r') as file:\n",
    "            reader = csv.reader(file)\n",
    "            next(reader)\n",
    "            for row in reader:  \n",
    "                x.append(torch.tensor(list(map(float,row[:-1])), dtype= torch.float32))\n",
    "                if row[-1].lower() == \"setosa\":\n",
    "                    y.append(torch.tensor(0,dtype=torch.long))  # Setosa\n",
    "\n",
    "                elif row[-1].lower() == \"versicolor\":\n",
    "                    y.append(torch.tensor(1,dtype=torch.long))\n",
    "\n",
    "                elif row[-1].lower() == \"virginica\":\n",
    "                    y.append(torch.tensor(2,dtype=torch.long))\n",
    "                    \n",
    "        x = torch.stack(x)\n",
    "        y = torch.stack(y)\n",
    "        return x, y\n",
    "\n",
    "    \n",
    "    def __len__(self):\n",
    "        return len(self.x)\n",
    "\n",
    "    def __getitem__(self,idx):\n",
    "        return self.x[idx], self.y[idx]\n",
    "\n",
    "\n",
    "dataset = CsvDataset(file_path='/kaggle/input/iris-dataset/iris.csv')\n",
    "\n",
    "dataloader = DataLoader(dataset=dataset, batch_size= 1, num_workers= 4, shuffle= True)     \n",
    "        "
   ]
  },
  {
   "cell_type": "code",
   "execution_count": 2,
   "id": "3620bca2",
   "metadata": {
    "execution": {
     "iopub.execute_input": "2024-11-19T17:52:44.206253Z",
     "iopub.status.busy": "2024-11-19T17:52:44.205640Z",
     "iopub.status.idle": "2024-11-19T17:52:44.228216Z",
     "shell.execute_reply": "2024-11-19T17:52:44.227196Z"
    },
    "papermill": {
     "duration": 0.028526,
     "end_time": "2024-11-19T17:52:44.230761",
     "exception": false,
     "start_time": "2024-11-19T17:52:44.202235",
     "status": "completed"
    },
    "tags": []
   },
   "outputs": [],
   "source": [
    "class IrisModel(nn.Module):\n",
    "    def __init__(self,input_shape, hidden_shape, output_shape):\n",
    "        super(IrisModel,self).__init__()\n",
    "        self.l1 = nn.Linear(input_shape, hidden_shape)\n",
    "        self.l2 = nn.Linear(hidden_shape, hidden_shape*2)\n",
    "        self.l3 = nn.Linear(hidden_shape*2, output_shape)\n",
    "\n",
    "    def forward(self, x):\n",
    "        x = torch.relu(self.l1(x))\n",
    "        x = torch.relu(self.l2(x))\n",
    "        # x = torch.softmax(self.l3(x), dim=1)\n",
    "        x = self.l3(x)\n",
    "        return x\n",
    "\n",
    "input_shape = 4\n",
    "output_shape = 3\n",
    "\n",
    "\n",
    "iris_model = IrisModel(input_shape= input_shape, hidden_shape= 16, output_shape= output_shape)\n"
   ]
  },
  {
   "cell_type": "code",
   "execution_count": 3,
   "id": "3c0205d0",
   "metadata": {
    "execution": {
     "iopub.execute_input": "2024-11-19T17:52:44.236118Z",
     "iopub.status.busy": "2024-11-19T17:52:44.235755Z",
     "iopub.status.idle": "2024-11-19T17:53:27.675026Z",
     "shell.execute_reply": "2024-11-19T17:53:27.673506Z"
    },
    "papermill": {
     "duration": 43.445369,
     "end_time": "2024-11-19T17:53:27.678108",
     "exception": false,
     "start_time": "2024-11-19T17:52:44.232739",
     "status": "completed"
    },
    "tags": []
   },
   "outputs": [
    {
     "name": "stdout",
     "output_type": "stream",
     "text": [
      "Epoch 10/100 : 0.6632\n",
      "Epoch 20/100 : 0.5904\n",
      "Epoch 30/100 : 0.0131\n",
      "Epoch 40/100 : 0.1892\n",
      "Epoch 50/100 : 0.0774\n",
      "Epoch 60/100 : 0.0029\n",
      "Epoch 70/100 : 0.0749\n",
      "Epoch 80/100 : 0.0121\n",
      "Epoch 90/100 : 0.0060\n",
      "Epoch 100/100 : 0.0524\n"
     ]
    }
   ],
   "source": [
    "epochs = 100\n",
    "loss_fn = nn.CrossEntropyLoss()\n",
    "optimizer = optim.SGD(iris_model.parameters(), lr=0.001)\n",
    "\n",
    "for epoch in range(epochs):\n",
    "    for feature, label in dataloader:\n",
    "        optimizer.zero_grad()\n",
    "        y_hat = iris_model(feature)\n",
    "        error = loss_fn(y_hat, label)\n",
    "        error.backward()\n",
    "        optimizer.step()\n",
    "\n",
    "    if (epoch + 1) % 10 == 0:\n",
    "        print(f\"Epoch {epoch + 1}/{epochs} : {error.item():.4f}\")\n",
    "        "
   ]
  },
  {
   "cell_type": "code",
   "execution_count": 4,
   "id": "62f143a5",
   "metadata": {
    "execution": {
     "iopub.execute_input": "2024-11-19T17:53:27.688851Z",
     "iopub.status.busy": "2024-11-19T17:53:27.688008Z",
     "iopub.status.idle": "2024-11-19T17:53:27.703477Z",
     "shell.execute_reply": "2024-11-19T17:53:27.701855Z"
    },
    "papermill": {
     "duration": 0.024576,
     "end_time": "2024-11-19T17:53:27.706921",
     "exception": false,
     "start_time": "2024-11-19T17:53:27.682345",
     "status": "completed"
    },
    "tags": []
   },
   "outputs": [
    {
     "name": "stdout",
     "output_type": "stream",
     "text": [
      "Prediction:  setosa\n"
     ]
    }
   ],
   "source": [
    "maping = {\n",
    "    0 : \"setosa\",\n",
    "    1 : \"versicolor\",\n",
    "    2 : \"virginica\"\n",
    "} \n",
    "\n",
    "with torch.no_grad():\n",
    "    prediction = iris_model(torch.tensor([5.1, 3.5, 1.4, 0.2]))\n",
    "    prediction = torch.argmax(prediction).item()\n",
    "    print(\"Prediction: \",maping[prediction])"
   ]
  }
 ],
 "metadata": {
  "kaggle": {
   "accelerator": "none",
   "dataSources": [
    {
     "datasetId": 2354152,
     "sourceId": 3966491,
     "sourceType": "datasetVersion"
    }
   ],
   "dockerImageVersionId": 30786,
   "isGpuEnabled": false,
   "isInternetEnabled": true,
   "language": "python",
   "sourceType": "notebook"
  },
  "kernelspec": {
   "display_name": "Python 3",
   "language": "python",
   "name": "python3"
  },
  "language_info": {
   "codemirror_mode": {
    "name": "ipython",
    "version": 3
   },
   "file_extension": ".py",
   "mimetype": "text/x-python",
   "name": "python",
   "nbconvert_exporter": "python",
   "pygments_lexer": "ipython3",
   "version": "3.10.14"
  },
  "papermill": {
   "default_parameters": {},
   "duration": 50.662179,
   "end_time": "2024-11-19T17:53:28.838200",
   "environment_variables": {},
   "exception": null,
   "input_path": "__notebook__.ipynb",
   "output_path": "__notebook__.ipynb",
   "parameters": {},
   "start_time": "2024-11-19T17:52:38.176021",
   "version": "2.6.0"
  }
 },
 "nbformat": 4,
 "nbformat_minor": 5
}
